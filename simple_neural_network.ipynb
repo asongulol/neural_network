{
 "cells": [
  {
   "cell_type": "code",
   "execution_count": 1,
   "metadata": {},
   "outputs": [
    {
     "name": "stderr",
     "output_type": "stream",
     "text": [
      "C:\\Users\\otrin\\.conda\\envs\\PythonData\\lib\\site-packages\\tensorflow\\python\\framework\\dtypes.py:516: FutureWarning: Passing (type, 1) or '1type' as a synonym of type is deprecated; in a future version of numpy, it will be understood as (type, (1,)) / '(1,)type'.\n",
      "  _np_qint8 = np.dtype([(\"qint8\", np.int8, 1)])\n",
      "C:\\Users\\otrin\\.conda\\envs\\PythonData\\lib\\site-packages\\tensorflow\\python\\framework\\dtypes.py:517: FutureWarning: Passing (type, 1) or '1type' as a synonym of type is deprecated; in a future version of numpy, it will be understood as (type, (1,)) / '(1,)type'.\n",
      "  _np_quint8 = np.dtype([(\"quint8\", np.uint8, 1)])\n",
      "C:\\Users\\otrin\\.conda\\envs\\PythonData\\lib\\site-packages\\tensorflow\\python\\framework\\dtypes.py:518: FutureWarning: Passing (type, 1) or '1type' as a synonym of type is deprecated; in a future version of numpy, it will be understood as (type, (1,)) / '(1,)type'.\n",
      "  _np_qint16 = np.dtype([(\"qint16\", np.int16, 1)])\n",
      "C:\\Users\\otrin\\.conda\\envs\\PythonData\\lib\\site-packages\\tensorflow\\python\\framework\\dtypes.py:519: FutureWarning: Passing (type, 1) or '1type' as a synonym of type is deprecated; in a future version of numpy, it will be understood as (type, (1,)) / '(1,)type'.\n",
      "  _np_quint16 = np.dtype([(\"quint16\", np.uint16, 1)])\n",
      "C:\\Users\\otrin\\.conda\\envs\\PythonData\\lib\\site-packages\\tensorflow\\python\\framework\\dtypes.py:520: FutureWarning: Passing (type, 1) or '1type' as a synonym of type is deprecated; in a future version of numpy, it will be understood as (type, (1,)) / '(1,)type'.\n",
      "  _np_qint32 = np.dtype([(\"qint32\", np.int32, 1)])\n",
      "C:\\Users\\otrin\\.conda\\envs\\PythonData\\lib\\site-packages\\tensorflow\\python\\framework\\dtypes.py:525: FutureWarning: Passing (type, 1) or '1type' as a synonym of type is deprecated; in a future version of numpy, it will be understood as (type, (1,)) / '(1,)type'.\n",
      "  np_resource = np.dtype([(\"resource\", np.ubyte, 1)])\n",
      "C:\\Users\\otrin\\.conda\\envs\\PythonData\\lib\\site-packages\\tensorboard\\compat\\tensorflow_stub\\dtypes.py:541: FutureWarning: Passing (type, 1) or '1type' as a synonym of type is deprecated; in a future version of numpy, it will be understood as (type, (1,)) / '(1,)type'.\n",
      "  _np_qint8 = np.dtype([(\"qint8\", np.int8, 1)])\n",
      "C:\\Users\\otrin\\.conda\\envs\\PythonData\\lib\\site-packages\\tensorboard\\compat\\tensorflow_stub\\dtypes.py:542: FutureWarning: Passing (type, 1) or '1type' as a synonym of type is deprecated; in a future version of numpy, it will be understood as (type, (1,)) / '(1,)type'.\n",
      "  _np_quint8 = np.dtype([(\"quint8\", np.uint8, 1)])\n",
      "C:\\Users\\otrin\\.conda\\envs\\PythonData\\lib\\site-packages\\tensorboard\\compat\\tensorflow_stub\\dtypes.py:543: FutureWarning: Passing (type, 1) or '1type' as a synonym of type is deprecated; in a future version of numpy, it will be understood as (type, (1,)) / '(1,)type'.\n",
      "  _np_qint16 = np.dtype([(\"qint16\", np.int16, 1)])\n",
      "C:\\Users\\otrin\\.conda\\envs\\PythonData\\lib\\site-packages\\tensorboard\\compat\\tensorflow_stub\\dtypes.py:544: FutureWarning: Passing (type, 1) or '1type' as a synonym of type is deprecated; in a future version of numpy, it will be understood as (type, (1,)) / '(1,)type'.\n",
      "  _np_quint16 = np.dtype([(\"quint16\", np.uint16, 1)])\n",
      "C:\\Users\\otrin\\.conda\\envs\\PythonData\\lib\\site-packages\\tensorboard\\compat\\tensorflow_stub\\dtypes.py:545: FutureWarning: Passing (type, 1) or '1type' as a synonym of type is deprecated; in a future version of numpy, it will be understood as (type, (1,)) / '(1,)type'.\n",
      "  _np_qint32 = np.dtype([(\"qint32\", np.int32, 1)])\n",
      "C:\\Users\\otrin\\.conda\\envs\\PythonData\\lib\\site-packages\\tensorboard\\compat\\tensorflow_stub\\dtypes.py:550: FutureWarning: Passing (type, 1) or '1type' as a synonym of type is deprecated; in a future version of numpy, it will be understood as (type, (1,)) / '(1,)type'.\n",
      "  np_resource = np.dtype([(\"resource\", np.ubyte, 1)])\n"
     ]
    }
   ],
   "source": [
    "# Import our dependencies\n",
    "import pandas as pd\n",
    "import matplotlib as plt\n",
    "from sklearn.datasets import make_blobs\n",
    "import sklearn as skl\n",
    "import tensorflow as tf"
   ]
  },
  {
   "cell_type": "code",
   "execution_count": 2,
   "metadata": {},
   "outputs": [
    {
     "data": {
      "text/plain": [
       "<matplotlib.axes._subplots.AxesSubplot at 0x24281065fc8>"
      ]
     },
     "execution_count": 2,
     "metadata": {},
     "output_type": "execute_result"
    },
    {
     "data": {
      "image/png": "[encoded data removed]",
      "text/plain": [
       "<Figure size 432x288 with 2 Axes>"
      ]
     },
     "metadata": {
      "needs_background": "light"
     },
     "output_type": "display_data"
    }
   ],
   "source": [
    "# Generate dummy dataset\n",
    "X, y = make_blobs(n_samples=1000, centers=2, n_features=2, random_state=78)\n",
    "\n",
    "# Creating a DataFrame with the dummy data\n",
    "df = pd.DataFrame(X, columns=[\"Feature 1\", \"Feature 2\"])\n",
    "df[\"Target\"] = y\n",
    "\n",
    "# Plotting the dummy data\n",
    "df.plot.scatter(x=\"Feature 1\", y=\"Feature 2\", c=\"Target\", colormap=\"winter\")"
   ]
  },
  {
   "cell_type": "code",
   "execution_count": 3,
   "metadata": {},
   "outputs": [],
   "source": [
    "# Use sklearn to split dataset\n",
    "from sklearn.model_selection import train_test_split\n",
    "X_train, X_test, y_train, y_test = train_test_split(X, y, random_state=78)"
   ]
  },
  {
   "cell_type": "code",
   "execution_count": 4,
   "metadata": {},
   "outputs": [],
   "source": [
    "# Create scaler instance\n",
    "X_scaler = skl.preprocessing.StandardScaler()\n",
    "\n",
    "# Fit the scaler\n",
    "X_scaler.fit(X_train)\n",
    "\n",
    "# Scale the data\n",
    "X_train_scaled = X_scaler.transform(X_train)\n",
    "X_test_scaled = X_scaler.transform(X_test)"
   ]
  },
  {
   "cell_type": "code",
   "execution_count": 5,
   "metadata": {},
   "outputs": [],
   "source": [
    "# Create the Keras Sequential model\n",
    "nn_model = tf.keras.models.Sequential()"
   ]
  },
  {
   "cell_type": "code",
   "execution_count": 6,
   "metadata": {},
   "outputs": [
    {
     "name": "stdout",
     "output_type": "stream",
     "text": [
      "WARNING:tensorflow:From C:\\Users\\otrin\\.conda\\envs\\PythonData\\lib\\site-packages\\tensorflow\\python\\ops\\init_ops.py:1251: calling VarianceScaling.__init__ (from tensorflow.python.ops.init_ops) with dtype is deprecated and will be removed in a future version.\n",
      "Instructions for updating:\n",
      "Call initializer instance with the dtype argument instead of passing it to the constructor\n"
     ]
    }
   ],
   "source": [
    "# Add our first Dense layer, including the input layer\n",
    "nn_model.add(tf.keras.layers.Dense(units=1, activation=\"relu\", input_dim=2))"
   ]
  },
  {
   "cell_type": "code",
   "execution_count": 7,
   "metadata": {},
   "outputs": [],
   "source": [
    "# Add the output layer that uses a probability activation function\n",
    "nn_model.add(tf.keras.layers.Dense(units=1, activation=\"sigmoid\"))"
   ]
  },
  {
   "cell_type": "code",
   "execution_count": 8,
   "metadata": {},
   "outputs": [
    {
     "name": "stdout",
     "output_type": "stream",
     "text": [
      "Model: \"sequential\"\n",
      "_________________________________________________________________\n",
      "Layer (type)                 Output Shape              Param #   \n",
      "=================================================================\n",
      "dense (Dense)                (None, 1)                 3         \n",
      "_________________________________________________________________\n",
      "dense_1 (Dense)              (None, 1)                 2         \n",
      "=================================================================\n",
      "Total params: 5\n",
      "Trainable params: 5\n",
      "Non-trainable params: 0\n",
      "_________________________________________________________________\n"
     ]
    }
   ],
   "source": [
    "# Check the structure of the Sequential model\n",
    "nn_model.summary()"
   ]
  },
  {
   "cell_type": "code",
   "execution_count": 9,
   "metadata": {},
   "outputs": [
    {
     "name": "stdout",
     "output_type": "stream",
     "text": [
      "WARNING:tensorflow:From C:\\Users\\otrin\\.conda\\envs\\PythonData\\lib\\site-packages\\tensorflow\\python\\ops\\nn_impl.py:180: add_dispatch_support.<locals>.wrapper (from tensorflow.python.ops.array_ops) is deprecated and will be removed in a future version.\n",
      "Instructions for updating:\n",
      "Use tf.where in 2.0, which has the same broadcast rule as np.where\n"
     ]
    }
   ],
   "source": [
    "# Compile the Sequential model together and customize metrics\n",
    "nn_model.compile(loss=\"binary_crossentropy\", optimizer=\"adam\", metrics=[\"accuracy\"])\n"
   ]
  },
  {
   "cell_type": "code",
   "execution_count": 10,
   "metadata": {},
   "outputs": [
    {
     "name": "stdout",
     "output_type": "stream",
     "text": [
      "Epoch 1/100\n",
      "750/750 [==============================] - 0s 104us/sample - loss: 0.8856 - acc: 0.0227\n",
      "Epoch 2/100\n",
      "750/750 [==============================] - 0s 16us/sample - loss: 0.8643 - acc: 0.0040\n",
      "Epoch 3/100\n",
      "750/750 [==============================] - 0s 17us/sample - loss: 0.8446 - acc: 0.0040\n",
      "Epoch 4/100\n",
      "750/750 [==============================] - 0s 17us/sample - loss: 0.8274 - acc: 0.0053\n",
      "Epoch 5/100\n",
      "750/750 [==============================] - 0s 16us/sample - loss: 0.8121 - acc: 0.0067\n",
      "Epoch 6/100\n",
      "750/750 [==============================] - 0s 16us/sample - loss: 0.7981 - acc: 0.0120\n",
      "Epoch 7/100\n",
      "750/750 [==============================] - 0s 16us/sample - loss: 0.7858 - acc: 0.0133\n",
      "Epoch 8/100\n",
      "750/750 [==============================] - 0s 16us/sample - loss: 0.7749 - acc: 0.0280\n",
      "Epoch 9/100\n",
      "750/750 [==============================] - 0s 15us/sample - loss: 0.7647 - acc: 0.0320\n",
      "Epoch 10/100\n",
      "750/750 [==============================] - 0s 16us/sample - loss: 0.7558 - acc: 0.0440\n",
      "Epoch 11/100\n",
      "750/750 [==============================] - 0s 16us/sample - loss: 0.7477 - acc: 0.0667\n",
      "Epoch 12/100\n",
      "750/750 [==============================] - 0s 16us/sample - loss: 0.7403 - acc: 0.0813\n",
      "Epoch 13/100\n",
      "750/750 [==============================] - 0s 16us/sample - loss: 0.7336 - acc: 0.1133\n",
      "Epoch 14/100\n",
      "750/750 [==============================] - 0s 16us/sample - loss: 0.7277 - acc: 0.1347\n",
      "Epoch 15/100\n",
      "750/750 [==============================] - 0s 16us/sample - loss: 0.7223 - acc: 0.1667\n",
      "Epoch 16/100\n",
      "750/750 [==============================] - 0s 16us/sample - loss: 0.7174 - acc: 0.2000\n",
      "Epoch 17/100\n",
      "750/750 [==============================] - 0s 16us/sample - loss: 0.7130 - acc: 0.2293\n",
      "Epoch 18/100\n",
      "750/750 [==============================] - 0s 16us/sample - loss: 0.7090 - acc: 0.2787\n",
      "Epoch 19/100\n",
      "750/750 [==============================] - 0s 17us/sample - loss: 0.7056 - acc: 0.3267\n",
      "Epoch 20/100\n",
      "750/750 [==============================] - 0s 16us/sample - loss: 0.7026 - acc: 0.3747\n",
      "Epoch 21/100\n",
      "750/750 [==============================] - 0s 16us/sample - loss: 0.7001 - acc: 0.4093\n",
      "Epoch 22/100\n",
      "750/750 [==============================] - 0s 16us/sample - loss: 0.6980 - acc: 0.4373\n",
      "Epoch 23/100\n",
      "750/750 [==============================] - 0s 15us/sample - loss: 0.6965 - acc: 0.4507\n",
      "Epoch 24/100\n",
      "750/750 [==============================] - 0s 16us/sample - loss: 0.6955 - acc: 0.4627\n",
      "Epoch 25/100\n",
      "750/750 [==============================] - 0s 16us/sample - loss: 0.6948 - acc: 0.4667\n",
      "Epoch 26/100\n",
      "750/750 [==============================] - 0s 16us/sample - loss: 0.6944 - acc: 0.4707\n",
      "Epoch 27/100\n",
      "750/750 [==============================] - 0s 16us/sample - loss: 0.6942 - acc: 0.4787\n",
      "Epoch 28/100\n",
      "750/750 [==============================] - 0s 16us/sample - loss: 0.6940 - acc: 0.4813\n",
      "Epoch 29/100\n",
      "750/750 [==============================] - 0s 16us/sample - loss: 0.6938 - acc: 0.4827\n",
      "Epoch 30/100\n",
      "750/750 [==============================] - 0s 16us/sample - loss: 0.6937 - acc: 0.4840\n",
      "Epoch 31/100\n",
      "750/750 [==============================] - 0s 16us/sample - loss: 0.6936 - acc: 0.4840\n",
      "Epoch 32/100\n",
      "750/750 [==============================] - 0s 16us/sample - loss: 0.6935 - acc: 0.4853\n",
      "Epoch 33/100\n",
      "750/750 [==============================] - 0s 17us/sample - loss: 0.6934 - acc: 0.4853\n",
      "Epoch 34/100\n",
      "750/750 [==============================] - 0s 15us/sample - loss: 0.6934 - acc: 0.4853\n",
      "Epoch 35/100\n",
      "750/750 [==============================] - 0s 15us/sample - loss: 0.6933 - acc: 0.4853\n",
      "Epoch 36/100\n",
      "750/750 [==============================] - 0s 16us/sample - loss: 0.6933 - acc: 0.4853\n",
      "Epoch 37/100\n",
      "750/750 [==============================] - 0s 16us/sample - loss: 0.6933 - acc: 0.4840\n",
      "Epoch 38/100\n",
      "750/750 [==============================] - 0s 16us/sample - loss: 0.6932 - acc: 0.4587\n",
      "Epoch 39/100\n",
      "750/750 [==============================] - 0s 15us/sample - loss: 0.6932 - acc: 0.4840\n",
      "Epoch 40/100\n",
      "750/750 [==============================] - 0s 15us/sample - loss: 0.6932 - acc: 0.5067\n",
      "Epoch 41/100\n",
      "750/750 [==============================] - 0s 16us/sample - loss: 0.6932 - acc: 0.5067\n",
      "Epoch 42/100\n",
      "750/750 [==============================] - 0s 16us/sample - loss: 0.6932 - acc: 0.5067\n",
      "Epoch 43/100\n",
      "750/750 [==============================] - 0s 16us/sample - loss: 0.6932 - acc: 0.5067\n",
      "Epoch 44/100\n",
      "750/750 [==============================] - 0s 16us/sample - loss: 0.6932 - acc: 0.5067\n",
      "Epoch 45/100\n",
      "750/750 [==============================] - 0s 16us/sample - loss: 0.6932 - acc: 0.5067\n",
      "Epoch 46/100\n",
      "750/750 [==============================] - 0s 16us/sample - loss: 0.6932 - acc: 0.5067\n",
      "Epoch 47/100\n",
      "750/750 [==============================] - 0s 15us/sample - loss: 0.6931 - acc: 0.5067\n",
      "Epoch 48/100\n",
      "750/750 [==============================] - 0s 17us/sample - loss: 0.6931 - acc: 0.5067\n",
      "Epoch 49/100\n",
      "750/750 [==============================] - 0s 16us/sample - loss: 0.6931 - acc: 0.5067\n",
      "Epoch 50/100\n",
      "750/750 [==============================] - 0s 16us/sample - loss: 0.6931 - acc: 0.5067\n",
      "Epoch 51/100\n",
      "750/750 [==============================] - 0s 16us/sample - loss: 0.6931 - acc: 0.5067\n",
      "Epoch 52/100\n",
      "750/750 [==============================] - 0s 16us/sample - loss: 0.6931 - acc: 0.5067\n",
      "Epoch 53/100\n",
      "750/750 [==============================] - 0s 15us/sample - loss: 0.6931 - acc: 0.5067\n",
      "Epoch 54/100\n",
      "750/750 [==============================] - 0s 16us/sample - loss: 0.6932 - acc: 0.5067\n",
      "Epoch 55/100\n",
      "750/750 [==============================] - 0s 16us/sample - loss: 0.6931 - acc: 0.5067\n",
      "Epoch 56/100\n",
      "750/750 [==============================] - 0s 16us/sample - loss: 0.6931 - acc: 0.5067\n",
      "Epoch 57/100\n",
      "750/750 [==============================] - 0s 16us/sample - loss: 0.6931 - acc: 0.5067\n",
      "Epoch 58/100\n",
      "750/750 [==============================] - 0s 16us/sample - loss: 0.6931 - acc: 0.5067\n",
      "Epoch 59/100\n",
      "750/750 [==============================] - 0s 16us/sample - loss: 0.6931 - acc: 0.5067\n",
      "Epoch 60/100\n",
      "750/750 [==============================] - 0s 16us/sample - loss: 0.6931 - acc: 0.5067\n",
      "Epoch 61/100\n",
      "750/750 [==============================] - 0s 17us/sample - loss: 0.6931 - acc: 0.5067\n",
      "Epoch 62/100\n",
      "750/750 [==============================] - 0s 16us/sample - loss: 0.6932 - acc: 0.5067\n",
      "Epoch 63/100\n",
      "750/750 [==============================] - 0s 16us/sample - loss: 0.6931 - acc: 0.5067\n",
      "Epoch 64/100\n",
      "750/750 [==============================] - 0s 17us/sample - loss: 0.6931 - acc: 0.5067\n",
      "Epoch 65/100\n",
      "750/750 [==============================] - 0s 16us/sample - loss: 0.6931 - acc: 0.5067\n",
      "Epoch 66/100\n",
      "750/750 [==============================] - 0s 16us/sample - loss: 0.6931 - acc: 0.5067\n",
      "Epoch 67/100\n",
      "750/750 [==============================] - 0s 16us/sample - loss: 0.6931 - acc: 0.5067\n",
      "Epoch 68/100\n",
      "750/750 [==============================] - 0s 16us/sample - loss: 0.6931 - acc: 0.5067\n",
      "Epoch 69/100\n",
      "750/750 [==============================] - 0s 16us/sample - loss: 0.6931 - acc: 0.5067\n",
      "Epoch 70/100\n",
      "750/750 [==============================] - 0s 16us/sample - loss: 0.6931 - acc: 0.5067\n",
      "Epoch 71/100\n",
      "750/750 [==============================] - 0s 16us/sample - loss: 0.6931 - acc: 0.5067\n",
      "Epoch 72/100\n",
      "750/750 [==============================] - 0s 16us/sample - loss: 0.6931 - acc: 0.5067\n",
      "Epoch 73/100\n",
      "750/750 [==============================] - 0s 16us/sample - loss: 0.6931 - acc: 0.5067\n",
      "Epoch 74/100\n",
      "750/750 [==============================] - 0s 16us/sample - loss: 0.6931 - acc: 0.5067\n",
      "Epoch 75/100\n",
      "750/750 [==============================] - 0s 16us/sample - loss: 0.6931 - acc: 0.5067\n",
      "Epoch 76/100\n",
      "750/750 [==============================] - 0s 16us/sample - loss: 0.6931 - acc: 0.5067\n",
      "Epoch 77/100\n",
      "750/750 [==============================] - 0s 16us/sample - loss: 0.6931 - acc: 0.5067\n",
      "Epoch 78/100\n",
      "750/750 [==============================] - 0s 16us/sample - loss: 0.6931 - acc: 0.5067\n",
      "Epoch 79/100\n",
      "750/750 [==============================] - 0s 16us/sample - loss: 0.6931 - acc: 0.5067\n",
      "Epoch 80/100\n",
      "750/750 [==============================] - 0s 16us/sample - loss: 0.6931 - acc: 0.5067\n",
      "Epoch 81/100\n",
      "750/750 [==============================] - 0s 16us/sample - loss: 0.6931 - acc: 0.5067\n",
      "Epoch 82/100\n",
      "750/750 [==============================] - 0s 16us/sample - loss: 0.6931 - acc: 0.5067\n",
      "Epoch 83/100\n"
     ]
    },
    {
     "name": "stdout",
     "output_type": "stream",
     "text": [
      "750/750 [==============================] - 0s 16us/sample - loss: 0.6931 - acc: 0.5067\n",
      "Epoch 84/100\n",
      "750/750 [==============================] - 0s 15us/sample - loss: 0.6931 - acc: 0.5067\n",
      "Epoch 85/100\n",
      "750/750 [==============================] - 0s 16us/sample - loss: 0.6931 - acc: 0.5067\n",
      "Epoch 86/100\n",
      "750/750 [==============================] - 0s 16us/sample - loss: 0.6931 - acc: 0.5067\n",
      "Epoch 87/100\n",
      "750/750 [==============================] - 0s 16us/sample - loss: 0.6931 - acc: 0.5067\n",
      "Epoch 88/100\n",
      "750/750 [==============================] - 0s 17us/sample - loss: 0.6931 - acc: 0.5067\n",
      "Epoch 89/100\n",
      "750/750 [==============================] - 0s 16us/sample - loss: 0.6931 - acc: 0.5067\n",
      "Epoch 90/100\n",
      "750/750 [==============================] - 0s 16us/sample - loss: 0.6931 - acc: 0.5067\n",
      "Epoch 91/100\n",
      "750/750 [==============================] - 0s 16us/sample - loss: 0.6931 - acc: 0.5067\n",
      "Epoch 92/100\n",
      "750/750 [==============================] - 0s 16us/sample - loss: 0.6931 - acc: 0.5067\n",
      "Epoch 93/100\n",
      "750/750 [==============================] - 0s 16us/sample - loss: 0.6931 - acc: 0.5067\n",
      "Epoch 94/100\n",
      "750/750 [==============================] - 0s 16us/sample - loss: 0.6931 - acc: 0.5067\n",
      "Epoch 95/100\n",
      "750/750 [==============================] - 0s 16us/sample - loss: 0.6931 - acc: 0.5067\n",
      "Epoch 96/100\n",
      "750/750 [==============================] - 0s 16us/sample - loss: 0.6931 - acc: 0.5067\n",
      "Epoch 97/100\n",
      "750/750 [==============================] - 0s 15us/sample - loss: 0.6931 - acc: 0.5067\n",
      "Epoch 98/100\n",
      "750/750 [==============================] - 0s 16us/sample - loss: 0.6931 - acc: 0.5067\n",
      "Epoch 99/100\n",
      "750/750 [==============================] - 0s 16us/sample - loss: 0.6931 - acc: 0.5067\n",
      "Epoch 100/100\n",
      "750/750 [==============================] - 0s 17us/sample - loss: 0.6931 - acc: 0.5067\n"
     ]
    }
   ],
   "source": [
    "# Fit the model to the training data\n",
    "fit_model = nn_model.fit(X_train_scaled, y_train, epochs=100)"
   ]
  },
  {
   "cell_type": "code",
   "execution_count": 11,
   "metadata": {},
   "outputs": [
    {
     "data": {
      "text/plain": [
       "<matplotlib.axes._subplots.AxesSubplot at 0x24282d56348>"
      ]
     },
     "execution_count": 11,
     "metadata": {},
     "output_type": "execute_result"
    },
    {
     "data": {
      "image/png": "[encoded data removed]",
      "text/plain": [
       "<Figure size 432x288 with 1 Axes>"
      ]
     },
     "metadata": {
      "needs_background": "light"
     },
     "output_type": "display_data"
    }
   ],
   "source": [
    "# Create a DataFrame containing training history\n",
    "history_df = pd.DataFrame(fit_model.history, index=range(1,len(fit_model.history[\"loss\"])+1))\n",
    "\n",
    "# Plot the loss\n",
    "history_df.plot(y=\"loss\")"
   ]
  },
  {
   "cell_type": "code",
   "execution_count": 16,
   "metadata": {},
   "outputs": [
    {
     "data": {
      "text/plain": [
       "<matplotlib.axes._subplots.AxesSubplot at 0x24283092948>"
      ]
     },
     "execution_count": 16,
     "metadata": {},
     "output_type": "execute_result"
    },
    {
     "data": {
      "image/png": "[encoded data removed]",
      "text/plain": [
       "<Figure size 432x288 with 1 Axes>"
      ]
     },
     "metadata": {
      "needs_background": "light"
     },
     "output_type": "display_data"
    }
   ],
   "source": [
    "# Plot the accuracy\n",
    "history_df.plot(y=\"acc\")"
   ]
  },
  {
   "cell_type": "code",
   "execution_count": 13,
   "metadata": {},
   "outputs": [
    {
     "name": "stdout",
     "output_type": "stream",
     "text": [
      "250/250 - 0s - loss: 0.6937 - acc: 0.4800\n",
      "Loss: 0.6936532912254334, Accuracy: 0.47999998927116394\n"
     ]
    }
   ],
   "source": [
    "# Evaluate the model using the test data\n",
    "model_loss, model_accuracy = nn_model.evaluate(X_test_scaled,y_test,verbose=2)\n",
    "print(f\"Loss: {model_loss}, Accuracy: {model_accuracy}\")"
   ]
  },
  {
   "cell_type": "code",
   "execution_count": 17,
   "metadata": {},
   "outputs": [
    {
     "data": {
      "text/plain": [
       "array([[0],\n",
       "       [0],\n",
       "       [0],\n",
       "       [0],\n",
       "       [0],\n",
       "       [0],\n",
       "       [0],\n",
       "       [0],\n",
       "       [0],\n",
       "       [0]])"
      ]
     },
     "execution_count": 17,
     "metadata": {},
     "output_type": "execute_result"
    }
   ],
   "source": [
    "# Predict the classification of a new set of blob data\n",
    "new_X, new_Y = make_blobs(n_samples=10, centers=2, n_features=2, random_state=78)\n",
    "new_X_scaled = X_scaler.transform(new_X)\n",
    "nn_model.predict_classes(new_X_scaled)"
   ]
  },
  {
   "cell_type": "code",
   "execution_count": 18,
   "metadata": {},
   "outputs": [
    {
     "data": {
      "text/plain": [
       "<matplotlib.axes._subplots.AxesSubplot at 0x242840e0bc8>"
      ]
     },
     "execution_count": 18,
     "metadata": {},
     "output_type": "execute_result"
    },
    {
     "data": {
      "image/png": "[encoded data removed]",
      "text/plain": [
       "<Figure size 432x288 with 2 Axes>"
      ]
     },
     "metadata": {
      "needs_background": "light"
     },
     "output_type": "display_data"
    }
   ],
   "source": [
    "from sklearn.datasets import make_moons\n",
    "\n",
    "# Creating dummy nonlinear data\n",
    "X_moons, y_moons = make_moons(n_samples=1000, noise=0.08, random_state=78)\n",
    "\n",
    "# Transforming y_moons to a vertical vector\n",
    "y_moons = y_moons.reshape(-1, 1)\n",
    "\n",
    "# Creating a DataFrame to plot the nonlinear dummy data\n",
    "df_moons = pd.DataFrame(X_moons, columns=[\"Feature 1\", \"Feature 2\"])\n",
    "df_moons[\"Target\"] = y_moons\n",
    "\n",
    "# Plot the nonlinear dummy data\n",
    "df_moons.plot.scatter(x=\"Feature 1\",y=\"Feature 2\", c=\"Target\",colormap=\"winter\")"
   ]
  },
  {
   "cell_type": "code",
   "execution_count": 19,
   "metadata": {},
   "outputs": [],
   "source": [
    "# Create training and testing sets\n",
    "X_moon_train, X_moon_test, y_moon_train, y_moon_test = train_test_split(\n",
    "    X_moons, y_moons, random_state=78\n",
    ")\n",
    "\n",
    "# Create the scaler instance\n",
    "X_moon_scaler = skl.preprocessing.StandardScaler()\n",
    "\n",
    "# Fit the scaler\n",
    "X_moon_scaler.fit(X_moon_train)\n",
    "\n",
    "# Scale the data\n",
    "X_moon_train_scaled = X_moon_scaler.transform(X_moon_train)\n",
    "X_moon_test_scaled = X_moon_scaler.transform(X_moon_test)"
   ]
  },
  {
   "cell_type": "code",
   "execution_count": 20,
   "metadata": {},
   "outputs": [
    {
     "name": "stdout",
     "output_type": "stream",
     "text": [
      "Epoch 1/100\n",
      "750/750 [==============================] - 0s 19us/sample - loss: 0.6925 - acc: 0.5307\n",
      "Epoch 2/100\n",
      "750/750 [==============================] - 0s 17us/sample - loss: 0.6924 - acc: 0.5307\n",
      "Epoch 3/100\n",
      "750/750 [==============================] - 0s 17us/sample - loss: 0.6923 - acc: 0.5307\n",
      "Epoch 4/100\n",
      "750/750 [==============================] - 0s 17us/sample - loss: 0.6921 - acc: 0.5307\n",
      "Epoch 5/100\n",
      "750/750 [==============================] - 0s 17us/sample - loss: 0.6920 - acc: 0.5307\n",
      "Epoch 6/100\n",
      "750/750 [==============================] - 0s 17us/sample - loss: 0.6920 - acc: 0.5307\n",
      "Epoch 7/100\n",
      "750/750 [==============================] - 0s 17us/sample - loss: 0.6919 - acc: 0.5307\n",
      "Epoch 8/100\n",
      "750/750 [==============================] - 0s 16us/sample - loss: 0.6918 - acc: 0.5307\n",
      "Epoch 9/100\n",
      "750/750 [==============================] - 0s 17us/sample - loss: 0.6917 - acc: 0.5307\n",
      "Epoch 10/100\n",
      "750/750 [==============================] - 0s 17us/sample - loss: 0.6916 - acc: 0.5307\n",
      "Epoch 11/100\n",
      "750/750 [==============================] - 0s 17us/sample - loss: 0.6916 - acc: 0.5307\n",
      "Epoch 12/100\n",
      "750/750 [==============================] - 0s 16us/sample - loss: 0.6916 - acc: 0.5307\n",
      "Epoch 13/100\n",
      "750/750 [==============================] - 0s 16us/sample - loss: 0.6915 - acc: 0.5307\n",
      "Epoch 14/100\n",
      "750/750 [==============================] - 0s 16us/sample - loss: 0.6915 - acc: 0.5307\n",
      "Epoch 15/100\n",
      "750/750 [==============================] - 0s 16us/sample - loss: 0.6915 - acc: 0.5307\n",
      "Epoch 16/100\n",
      "750/750 [==============================] - 0s 17us/sample - loss: 0.6915 - acc: 0.5307\n",
      "Epoch 17/100\n",
      "750/750 [==============================] - 0s 17us/sample - loss: 0.6914 - acc: 0.5307\n",
      "Epoch 18/100\n",
      "750/750 [==============================] - 0s 16us/sample - loss: 0.6914 - acc: 0.5307\n",
      "Epoch 19/100\n",
      "750/750 [==============================] - 0s 16us/sample - loss: 0.6914 - acc: 0.5307\n",
      "Epoch 20/100\n",
      "750/750 [==============================] - 0s 17us/sample - loss: 0.6914 - acc: 0.5307\n",
      "Epoch 21/100\n",
      "750/750 [==============================] - 0s 17us/sample - loss: 0.6914 - acc: 0.5307\n",
      "Epoch 22/100\n",
      "750/750 [==============================] - 0s 16us/sample - loss: 0.6913 - acc: 0.5307\n",
      "Epoch 23/100\n",
      "750/750 [==============================] - 0s 17us/sample - loss: 0.6913 - acc: 0.5307\n",
      "Epoch 24/100\n",
      "750/750 [==============================] - 0s 16us/sample - loss: 0.6913 - acc: 0.5307\n",
      "Epoch 25/100\n",
      "750/750 [==============================] - 0s 17us/sample - loss: 0.6914 - acc: 0.5307\n",
      "Epoch 26/100\n",
      "750/750 [==============================] - 0s 16us/sample - loss: 0.6913 - acc: 0.5307\n",
      "Epoch 27/100\n",
      "750/750 [==============================] - 0s 16us/sample - loss: 0.6913 - acc: 0.5307\n",
      "Epoch 28/100\n",
      "750/750 [==============================] - 0s 17us/sample - loss: 0.6913 - acc: 0.5307\n",
      "Epoch 29/100\n",
      "750/750 [==============================] - 0s 16us/sample - loss: 0.6913 - acc: 0.5307\n",
      "Epoch 30/100\n",
      "750/750 [==============================] - 0s 16us/sample - loss: 0.6913 - acc: 0.5307\n",
      "Epoch 31/100\n",
      "750/750 [==============================] - 0s 15us/sample - loss: 0.6913 - acc: 0.5307\n",
      "Epoch 32/100\n",
      "750/750 [==============================] - 0s 16us/sample - loss: 0.6913 - acc: 0.5307\n",
      "Epoch 33/100\n",
      "750/750 [==============================] - 0s 17us/sample - loss: 0.6913 - acc: 0.5307\n",
      "Epoch 34/100\n",
      "750/750 [==============================] - 0s 16us/sample - loss: 0.6913 - acc: 0.5307\n",
      "Epoch 35/100\n",
      "750/750 [==============================] - 0s 16us/sample - loss: 0.6913 - acc: 0.5307\n",
      "Epoch 36/100\n",
      "750/750 [==============================] - 0s 17us/sample - loss: 0.6913 - acc: 0.5307\n",
      "Epoch 37/100\n",
      "750/750 [==============================] - 0s 17us/sample - loss: 0.6913 - acc: 0.5307\n",
      "Epoch 38/100\n",
      "750/750 [==============================] - 0s 17us/sample - loss: 0.6913 - acc: 0.5307\n",
      "Epoch 39/100\n",
      "750/750 [==============================] - 0s 17us/sample - loss: 0.6913 - acc: 0.5307\n",
      "Epoch 40/100\n",
      "750/750 [==============================] - 0s 16us/sample - loss: 0.6913 - acc: 0.5307\n",
      "Epoch 41/100\n",
      "750/750 [==============================] - 0s 17us/sample - loss: 0.6913 - acc: 0.5307\n",
      "Epoch 42/100\n",
      "750/750 [==============================] - 0s 16us/sample - loss: 0.6913 - acc: 0.5307\n",
      "Epoch 43/100\n",
      "750/750 [==============================] - 0s 17us/sample - loss: 0.6913 - acc: 0.5307\n",
      "Epoch 44/100\n",
      "750/750 [==============================] - 0s 17us/sample - loss: 0.6913 - acc: 0.5307\n",
      "Epoch 45/100\n",
      "750/750 [==============================] - 0s 16us/sample - loss: 0.6913 - acc: 0.5307\n",
      "Epoch 46/100\n",
      "750/750 [==============================] - 0s 16us/sample - loss: 0.6913 - acc: 0.5307\n",
      "Epoch 47/100\n",
      "750/750 [==============================] - 0s 16us/sample - loss: 0.6913 - acc: 0.5307\n",
      "Epoch 48/100\n",
      "750/750 [==============================] - 0s 16us/sample - loss: 0.6913 - acc: 0.5307\n",
      "Epoch 49/100\n",
      "750/750 [==============================] - 0s 17us/sample - loss: 0.6913 - acc: 0.5307\n",
      "Epoch 50/100\n",
      "750/750 [==============================] - 0s 17us/sample - loss: 0.6913 - acc: 0.5307\n",
      "Epoch 51/100\n",
      "750/750 [==============================] - 0s 16us/sample - loss: 0.6913 - acc: 0.5307\n",
      "Epoch 52/100\n",
      "750/750 [==============================] - 0s 16us/sample - loss: 0.6913 - acc: 0.5307\n",
      "Epoch 53/100\n",
      "750/750 [==============================] - 0s 16us/sample - loss: 0.6913 - acc: 0.5307\n",
      "Epoch 54/100\n",
      "750/750 [==============================] - 0s 17us/sample - loss: 0.6913 - acc: 0.5307\n",
      "Epoch 55/100\n",
      "750/750 [==============================] - 0s 16us/sample - loss: 0.6913 - acc: 0.5307\n",
      "Epoch 56/100\n",
      "750/750 [==============================] - 0s 16us/sample - loss: 0.6913 - acc: 0.5307\n",
      "Epoch 57/100\n",
      "750/750 [==============================] - 0s 17us/sample - loss: 0.6913 - acc: 0.5307\n",
      "Epoch 58/100\n",
      "750/750 [==============================] - 0s 16us/sample - loss: 0.6913 - acc: 0.5307\n",
      "Epoch 59/100\n",
      "750/750 [==============================] - 0s 16us/sample - loss: 0.6913 - acc: 0.5307\n",
      "Epoch 60/100\n",
      "750/750 [==============================] - 0s 17us/sample - loss: 0.6913 - acc: 0.5307\n",
      "Epoch 61/100\n",
      "750/750 [==============================] - 0s 16us/sample - loss: 0.6913 - acc: 0.5307\n",
      "Epoch 62/100\n",
      "750/750 [==============================] - 0s 17us/sample - loss: 0.6913 - acc: 0.5307\n",
      "Epoch 63/100\n",
      "750/750 [==============================] - 0s 17us/sample - loss: 0.6913 - acc: 0.5307\n",
      "Epoch 64/100\n",
      "750/750 [==============================] - 0s 16us/sample - loss: 0.6913 - acc: 0.5307\n",
      "Epoch 65/100\n",
      "750/750 [==============================] - 0s 17us/sample - loss: 0.6913 - acc: 0.5307\n",
      "Epoch 66/100\n",
      "750/750 [==============================] - 0s 16us/sample - loss: 0.6913 - acc: 0.5307\n",
      "Epoch 67/100\n",
      "750/750 [==============================] - 0s 16us/sample - loss: 0.6913 - acc: 0.5307\n",
      "Epoch 68/100\n",
      "750/750 [==============================] - 0s 16us/sample - loss: 0.6913 - acc: 0.5307\n",
      "Epoch 69/100\n",
      "750/750 [==============================] - 0s 16us/sample - loss: 0.6913 - acc: 0.5307\n",
      "Epoch 70/100\n",
      "750/750 [==============================] - 0s 16us/sample - loss: 0.6913 - acc: 0.5307\n",
      "Epoch 71/100\n",
      "750/750 [==============================] - 0s 16us/sample - loss: 0.6913 - acc: 0.5307\n",
      "Epoch 72/100\n",
      "750/750 [==============================] - 0s 17us/sample - loss: 0.6913 - acc: 0.5307\n",
      "Epoch 73/100\n",
      "750/750 [==============================] - 0s 16us/sample - loss: 0.6913 - acc: 0.5307\n",
      "Epoch 74/100\n",
      "750/750 [==============================] - 0s 16us/sample - loss: 0.6913 - acc: 0.5307\n",
      "Epoch 75/100\n",
      "750/750 [==============================] - 0s 17us/sample - loss: 0.6913 - acc: 0.5307\n",
      "Epoch 76/100\n",
      "750/750 [==============================] - 0s 17us/sample - loss: 0.6913 - acc: 0.5307\n",
      "Epoch 77/100\n",
      "750/750 [==============================] - 0s 16us/sample - loss: 0.6913 - acc: 0.5307\n",
      "Epoch 78/100\n",
      "750/750 [==============================] - 0s 16us/sample - loss: 0.6913 - acc: 0.5307\n",
      "Epoch 79/100\n",
      "750/750 [==============================] - 0s 17us/sample - loss: 0.6913 - acc: 0.5307\n",
      "Epoch 80/100\n",
      "750/750 [==============================] - 0s 17us/sample - loss: 0.6913 - acc: 0.5307\n",
      "Epoch 81/100\n",
      "750/750 [==============================] - 0s 17us/sample - loss: 0.6913 - acc: 0.5307\n",
      "Epoch 82/100\n",
      "750/750 [==============================] - 0s 16us/sample - loss: 0.6913 - acc: 0.5307\n",
      "Epoch 83/100\n"
     ]
    },
    {
     "name": "stdout",
     "output_type": "stream",
     "text": [
      "750/750 [==============================] - 0s 16us/sample - loss: 0.6913 - acc: 0.5307\n",
      "Epoch 84/100\n",
      "750/750 [==============================] - 0s 16us/sample - loss: 0.6913 - acc: 0.5307\n",
      "Epoch 85/100\n",
      "750/750 [==============================] - 0s 17us/sample - loss: 0.6914 - acc: 0.5307\n",
      "Epoch 86/100\n",
      "750/750 [==============================] - 0s 17us/sample - loss: 0.6913 - acc: 0.5307\n",
      "Epoch 87/100\n",
      "750/750 [==============================] - 0s 17us/sample - loss: 0.6913 - acc: 0.5307\n",
      "Epoch 88/100\n",
      "750/750 [==============================] - 0s 16us/sample - loss: 0.6913 - acc: 0.5307\n",
      "Epoch 89/100\n",
      "750/750 [==============================] - 0s 17us/sample - loss: 0.6913 - acc: 0.5307\n",
      "Epoch 90/100\n",
      "750/750 [==============================] - 0s 16us/sample - loss: 0.6913 - acc: 0.5307\n",
      "Epoch 91/100\n",
      "750/750 [==============================] - 0s 17us/sample - loss: 0.6913 - acc: 0.5307\n",
      "Epoch 92/100\n",
      "750/750 [==============================] - 0s 15us/sample - loss: 0.6913 - acc: 0.5307\n",
      "Epoch 93/100\n",
      "750/750 [==============================] - 0s 16us/sample - loss: 0.6913 - acc: 0.5307\n",
      "Epoch 94/100\n",
      "750/750 [==============================] - 0s 16us/sample - loss: 0.6913 - acc: 0.5307\n",
      "Epoch 95/100\n",
      "750/750 [==============================] - 0s 16us/sample - loss: 0.6913 - acc: 0.5307\n",
      "Epoch 96/100\n",
      "750/750 [==============================] - 0s 16us/sample - loss: 0.6913 - acc: 0.5307\n",
      "Epoch 97/100\n",
      "750/750 [==============================] - 0s 16us/sample - loss: 0.6913 - acc: 0.5307\n",
      "Epoch 98/100\n",
      "750/750 [==============================] - 0s 16us/sample - loss: 0.6913 - acc: 0.5307\n",
      "Epoch 99/100\n",
      "750/750 [==============================] - 0s 17us/sample - loss: 0.6913 - acc: 0.5307\n",
      "Epoch 100/100\n",
      "750/750 [==============================] - 0s 16us/sample - loss: 0.6913 - acc: 0.5307\n"
     ]
    }
   ],
   "source": [
    "# Training the model with the nonlinear data\n",
    "model_moon = nn_model.fit(X_moon_train_scaled, y_moon_train, epochs=100, shuffle=True)"
   ]
  },
  {
   "cell_type": "code",
   "execution_count": 21,
   "metadata": {},
   "outputs": [
    {
     "data": {
      "text/plain": [
       "<matplotlib.axes._subplots.AxesSubplot at 0x24284179648>"
      ]
     },
     "execution_count": 21,
     "metadata": {},
     "output_type": "execute_result"
    },
    {
     "data": {
      "image/png": "[encoded data removed]",
      "text/plain": [
       "<Figure size 432x288 with 1 Axes>"
      ]
     },
     "metadata": {
      "needs_background": "light"
     },
     "output_type": "display_data"
    }
   ],
   "source": [
    "# Create a DataFrame containing training history\n",
    "history_df = pd.DataFrame(model_moon.history, index=range(1,len(model_moon.history[\"loss\"])+1))\n",
    "\n",
    "# Plot the loss\n",
    "history_df.plot(y=\"loss\")"
   ]
  },
  {
   "cell_type": "code",
   "execution_count": 22,
   "metadata": {},
   "outputs": [
    {
     "data": {
      "text/plain": [
       "<matplotlib.axes._subplots.AxesSubplot at 0x242841ee6c8>"
      ]
     },
     "execution_count": 22,
     "metadata": {},
     "output_type": "execute_result"
    },
    {
     "data": {
      "image/png": "[encoded data removed]",
      "text/plain": [
       "<Figure size 432x288 with 1 Axes>"
      ]
     },
     "metadata": {
      "needs_background": "light"
     },
     "output_type": "display_data"
    }
   ],
   "source": [
    "# Plot the accuracy -- single neuron can't handle it\n",
    "history_df.plot(y=\"acc\")"
   ]
  },
  {
   "cell_type": "code",
   "execution_count": 23,
   "metadata": {},
   "outputs": [],
   "source": [
    "# Generate our new Sequential model\n",
    "new_model = tf.keras.models.Sequential()"
   ]
  },
  {
   "cell_type": "code",
   "execution_count": 24,
   "metadata": {},
   "outputs": [],
   "source": [
    "# Add the input and hidden layer\n",
    "number_inputs = 2\n",
    "number_hidden_nodes = 6\n",
    "\n",
    "new_model.add(tf.keras.layers.Dense(units=number_hidden_nodes, activation=\"relu\", input_dim=number_inputs))\n",
    "\n",
    "# Add the output layer that uses a probability activation function\n",
    "new_model.add(tf.keras.layers.Dense(units=1, activation=\"sigmoid\"))"
   ]
  },
  {
   "cell_type": "code",
   "execution_count": 25,
   "metadata": {},
   "outputs": [
    {
     "name": "stdout",
     "output_type": "stream",
     "text": [
      "Epoch 1/100\n",
      "750/750 [==============================] - 0s 95us/sample - loss: 0.6080 - acc: 0.6867\n",
      "Epoch 2/100\n",
      "750/750 [==============================] - 0s 17us/sample - loss: 0.5760 - acc: 0.7307\n",
      "Epoch 3/100\n",
      "750/750 [==============================] - 0s 17us/sample - loss: 0.5464 - acc: 0.7933\n",
      "Epoch 4/100\n",
      "750/750 [==============================] - 0s 17us/sample - loss: 0.5180 - acc: 0.8240\n",
      "Epoch 5/100\n",
      "750/750 [==============================] - 0s 17us/sample - loss: 0.4904 - acc: 0.8507\n",
      "Epoch 6/100\n",
      "750/750 [==============================] - 0s 17us/sample - loss: 0.4645 - acc: 0.8653\n",
      "Epoch 7/100\n",
      "750/750 [==============================] - 0s 19us/sample - loss: 0.4398 - acc: 0.8720\n",
      "Epoch 8/100\n",
      "750/750 [==============================] - 0s 17us/sample - loss: 0.4167 - acc: 0.8760\n",
      "Epoch 9/100\n",
      "750/750 [==============================] - 0s 17us/sample - loss: 0.3957 - acc: 0.8813\n",
      "Epoch 10/100\n",
      "750/750 [==============================] - 0s 17us/sample - loss: 0.3771 - acc: 0.8840\n",
      "Epoch 11/100\n",
      "750/750 [==============================] - 0s 16us/sample - loss: 0.3605 - acc: 0.8827\n",
      "Epoch 12/100\n",
      "750/750 [==============================] - 0s 17us/sample - loss: 0.3457 - acc: 0.8827\n",
      "Epoch 13/100\n",
      "750/750 [==============================] - 0s 16us/sample - loss: 0.3326 - acc: 0.8827\n",
      "Epoch 14/100\n",
      "750/750 [==============================] - 0s 17us/sample - loss: 0.3211 - acc: 0.8840\n",
      "Epoch 15/100\n",
      "750/750 [==============================] - 0s 17us/sample - loss: 0.3108 - acc: 0.8853\n",
      "Epoch 16/100\n",
      "750/750 [==============================] - 0s 17us/sample - loss: 0.3023 - acc: 0.8853\n",
      "Epoch 17/100\n",
      "750/750 [==============================] - 0s 16us/sample - loss: 0.2946 - acc: 0.8867\n",
      "Epoch 18/100\n",
      "750/750 [==============================] - 0s 17us/sample - loss: 0.2880 - acc: 0.8880\n",
      "Epoch 19/100\n",
      "750/750 [==============================] - 0s 17us/sample - loss: 0.2821 - acc: 0.8867\n",
      "Epoch 20/100\n",
      "750/750 [==============================] - 0s 16us/sample - loss: 0.2772 - acc: 0.8867\n",
      "Epoch 21/100\n",
      "750/750 [==============================] - 0s 17us/sample - loss: 0.2727 - acc: 0.8880\n",
      "Epoch 22/100\n",
      "750/750 [==============================] - 0s 17us/sample - loss: 0.2691 - acc: 0.8893\n",
      "Epoch 23/100\n",
      "750/750 [==============================] - 0s 17us/sample - loss: 0.2657 - acc: 0.8907\n",
      "Epoch 24/100\n",
      "750/750 [==============================] - 0s 16us/sample - loss: 0.2626 - acc: 0.8907\n",
      "Epoch 25/100\n",
      "750/750 [==============================] - 0s 16us/sample - loss: 0.2599 - acc: 0.8920\n",
      "Epoch 26/100\n",
      "750/750 [==============================] - 0s 16us/sample - loss: 0.2574 - acc: 0.8920\n",
      "Epoch 27/100\n",
      "750/750 [==============================] - 0s 16us/sample - loss: 0.2554 - acc: 0.8920\n",
      "Epoch 28/100\n",
      "750/750 [==============================] - 0s 16us/sample - loss: 0.2534 - acc: 0.8933\n",
      "Epoch 29/100\n",
      "750/750 [==============================] - 0s 16us/sample - loss: 0.2517 - acc: 0.8947\n",
      "Epoch 30/100\n",
      "750/750 [==============================] - 0s 16us/sample - loss: 0.2502 - acc: 0.8947\n",
      "Epoch 31/100\n",
      "750/750 [==============================] - 0s 16us/sample - loss: 0.2487 - acc: 0.8947\n",
      "Epoch 32/100\n",
      "750/750 [==============================] - 0s 17us/sample - loss: 0.2475 - acc: 0.8973\n",
      "Epoch 33/100\n",
      "750/750 [==============================] - 0s 16us/sample - loss: 0.2462 - acc: 0.8973\n",
      "Epoch 34/100\n",
      "750/750 [==============================] - 0s 16us/sample - loss: 0.2452 - acc: 0.8973\n",
      "Epoch 35/100\n",
      "750/750 [==============================] - 0s 17us/sample - loss: 0.2442 - acc: 0.8973\n",
      "Epoch 36/100\n",
      "750/750 [==============================] - 0s 17us/sample - loss: 0.2432 - acc: 0.8973\n",
      "Epoch 37/100\n",
      "750/750 [==============================] - 0s 17us/sample - loss: 0.2423 - acc: 0.8973\n",
      "Epoch 38/100\n",
      "750/750 [==============================] - 0s 16us/sample - loss: 0.2416 - acc: 0.8973\n",
      "Epoch 39/100\n",
      "750/750 [==============================] - 0s 17us/sample - loss: 0.2408 - acc: 0.8973\n",
      "Epoch 40/100\n",
      "750/750 [==============================] - 0s 17us/sample - loss: 0.2401 - acc: 0.8973\n",
      "Epoch 41/100\n",
      "750/750 [==============================] - 0s 17us/sample - loss: 0.2394 - acc: 0.8973\n",
      "Epoch 42/100\n",
      "750/750 [==============================] - 0s 16us/sample - loss: 0.2388 - acc: 0.8973\n",
      "Epoch 43/100\n",
      "750/750 [==============================] - 0s 17us/sample - loss: 0.2382 - acc: 0.8973\n",
      "Epoch 44/100\n",
      "750/750 [==============================] - 0s 16us/sample - loss: 0.2377 - acc: 0.8973\n",
      "Epoch 45/100\n",
      "750/750 [==============================] - 0s 17us/sample - loss: 0.2372 - acc: 0.8987\n",
      "Epoch 46/100\n",
      "750/750 [==============================] - 0s 17us/sample - loss: 0.2367 - acc: 0.8987\n",
      "Epoch 47/100\n",
      "750/750 [==============================] - 0s 17us/sample - loss: 0.2362 - acc: 0.9000\n",
      "Epoch 48/100\n",
      "750/750 [==============================] - 0s 17us/sample - loss: 0.2357 - acc: 0.9000\n",
      "Epoch 49/100\n",
      "750/750 [==============================] - 0s 17us/sample - loss: 0.2354 - acc: 0.8987\n",
      "Epoch 50/100\n",
      "750/750 [==============================] - 0s 17us/sample - loss: 0.2347 - acc: 0.9000\n",
      "Epoch 51/100\n",
      "750/750 [==============================] - 0s 17us/sample - loss: 0.2346 - acc: 0.9013\n",
      "Epoch 52/100\n",
      "750/750 [==============================] - 0s 16us/sample - loss: 0.2339 - acc: 0.9013\n",
      "Epoch 53/100\n",
      "750/750 [==============================] - 0s 16us/sample - loss: 0.2335 - acc: 0.9000\n",
      "Epoch 54/100\n",
      "750/750 [==============================] - 0s 16us/sample - loss: 0.2331 - acc: 0.9000\n",
      "Epoch 55/100\n",
      "750/750 [==============================] - 0s 17us/sample - loss: 0.2327 - acc: 0.9000\n",
      "Epoch 56/100\n",
      "750/750 [==============================] - 0s 19us/sample - loss: 0.2324 - acc: 0.9000\n",
      "Epoch 57/100\n",
      "750/750 [==============================] - 0s 17us/sample - loss: 0.2320 - acc: 0.9000\n",
      "Epoch 58/100\n",
      "750/750 [==============================] - 0s 16us/sample - loss: 0.2316 - acc: 0.9013\n",
      "Epoch 59/100\n",
      "750/750 [==============================] - 0s 17us/sample - loss: 0.2314 - acc: 0.9013\n",
      "Epoch 60/100\n",
      "750/750 [==============================] - 0s 17us/sample - loss: 0.2309 - acc: 0.9013\n",
      "Epoch 61/100\n",
      "750/750 [==============================] - 0s 17us/sample - loss: 0.2304 - acc: 0.9000\n",
      "Epoch 62/100\n",
      "750/750 [==============================] - 0s 16us/sample - loss: 0.2301 - acc: 0.9013\n",
      "Epoch 63/100\n",
      "750/750 [==============================] - 0s 16us/sample - loss: 0.2297 - acc: 0.9013\n",
      "Epoch 64/100\n",
      "750/750 [==============================] - 0s 17us/sample - loss: 0.2294 - acc: 0.9013\n",
      "Epoch 65/100\n",
      "750/750 [==============================] - 0s 17us/sample - loss: 0.2290 - acc: 0.9013\n",
      "Epoch 66/100\n",
      "750/750 [==============================] - 0s 16us/sample - loss: 0.2286 - acc: 0.9013\n",
      "Epoch 67/100\n",
      "750/750 [==============================] - 0s 17us/sample - loss: 0.2283 - acc: 0.9013\n",
      "Epoch 68/100\n",
      "750/750 [==============================] - 0s 17us/sample - loss: 0.2279 - acc: 0.9013\n",
      "Epoch 69/100\n",
      "750/750 [==============================] - 0s 17us/sample - loss: 0.2275 - acc: 0.9027\n",
      "Epoch 70/100\n",
      "750/750 [==============================] - 0s 17us/sample - loss: 0.2271 - acc: 0.9027\n",
      "Epoch 71/100\n",
      "750/750 [==============================] - 0s 17us/sample - loss: 0.2267 - acc: 0.9027\n",
      "Epoch 72/100\n",
      "750/750 [==============================] - 0s 17us/sample - loss: 0.2263 - acc: 0.9027\n",
      "Epoch 73/100\n",
      "750/750 [==============================] - 0s 16us/sample - loss: 0.2260 - acc: 0.9027\n",
      "Epoch 74/100\n",
      "750/750 [==============================] - 0s 17us/sample - loss: 0.2256 - acc: 0.9027\n",
      "Epoch 75/100\n",
      "750/750 [==============================] - 0s 17us/sample - loss: 0.2253 - acc: 0.9027\n",
      "Epoch 76/100\n",
      "750/750 [==============================] - 0s 17us/sample - loss: 0.2250 - acc: 0.9027\n",
      "Epoch 77/100\n",
      "750/750 [==============================] - 0s 17us/sample - loss: 0.2247 - acc: 0.9027\n",
      "Epoch 78/100\n",
      "750/750 [==============================] - 0s 17us/sample - loss: 0.2243 - acc: 0.9027\n",
      "Epoch 79/100\n",
      "750/750 [==============================] - 0s 17us/sample - loss: 0.2239 - acc: 0.9027\n",
      "Epoch 80/100\n",
      "750/750 [==============================] - 0s 17us/sample - loss: 0.2237 - acc: 0.9027\n",
      "Epoch 81/100\n",
      "750/750 [==============================] - 0s 16us/sample - loss: 0.2233 - acc: 0.9027\n",
      "Epoch 82/100\n",
      "750/750 [==============================] - 0s 17us/sample - loss: 0.2229 - acc: 0.9027\n",
      "Epoch 83/100\n"
     ]
    },
    {
     "name": "stdout",
     "output_type": "stream",
     "text": [
      "750/750 [==============================] - 0s 17us/sample - loss: 0.2226 - acc: 0.9027\n",
      "Epoch 84/100\n",
      "750/750 [==============================] - 0s 17us/sample - loss: 0.2224 - acc: 0.9027\n",
      "Epoch 85/100\n",
      "750/750 [==============================] - 0s 17us/sample - loss: 0.2217 - acc: 0.9027\n",
      "Epoch 86/100\n",
      "750/750 [==============================] - 0s 17us/sample - loss: 0.2214 - acc: 0.9027\n",
      "Epoch 87/100\n",
      "750/750 [==============================] - 0s 17us/sample - loss: 0.2211 - acc: 0.9027\n",
      "Epoch 88/100\n",
      "750/750 [==============================] - 0s 17us/sample - loss: 0.2207 - acc: 0.9027\n",
      "Epoch 89/100\n",
      "750/750 [==============================] - 0s 16us/sample - loss: 0.2203 - acc: 0.9013\n",
      "Epoch 90/100\n",
      "750/750 [==============================] - 0s 16us/sample - loss: 0.2200 - acc: 0.9027\n",
      "Epoch 91/100\n",
      "750/750 [==============================] - 0s 17us/sample - loss: 0.2197 - acc: 0.9013\n",
      "Epoch 92/100\n",
      "750/750 [==============================] - 0s 17us/sample - loss: 0.2193 - acc: 0.9040\n",
      "Epoch 93/100\n",
      "750/750 [==============================] - 0s 17us/sample - loss: 0.2189 - acc: 0.9027\n",
      "Epoch 94/100\n",
      "750/750 [==============================] - 0s 17us/sample - loss: 0.2186 - acc: 0.9040\n",
      "Epoch 95/100\n",
      "750/750 [==============================] - 0s 17us/sample - loss: 0.2182 - acc: 0.9040\n",
      "Epoch 96/100\n",
      "750/750 [==============================] - 0s 17us/sample - loss: 0.2180 - acc: 0.9027\n",
      "Epoch 97/100\n",
      "750/750 [==============================] - 0s 17us/sample - loss: 0.2176 - acc: 0.9027\n",
      "Epoch 98/100\n",
      "750/750 [==============================] - 0s 17us/sample - loss: 0.2172 - acc: 0.9027\n",
      "Epoch 99/100\n",
      "750/750 [==============================] - 0s 17us/sample - loss: 0.2169 - acc: 0.9027\n",
      "Epoch 100/100\n",
      "750/750 [==============================] - 0s 17us/sample - loss: 0.2165 - acc: 0.9027\n"
     ]
    }
   ],
   "source": [
    "# Compile the Sequential model together and customize metrics\n",
    "new_model.compile(loss=\"binary_crossentropy\", optimizer=\"adam\", metrics=[\"accuracy\"])\n",
    "\n",
    "# Fit the model to the training data\n",
    "new_fit_model = new_model.fit(X_moon_train_scaled, y_moon_train, epochs=100, shuffle=True)"
   ]
  },
  {
   "cell_type": "code",
   "execution_count": null,
   "metadata": {},
   "outputs": [],
   "source": []
  }
 ],
 "metadata": {
  "kernelspec": {
   "display_name": "PythonData",
   "language": "python",
   "name": "pythondata"
  },
  "language_info": {
   "codemirror_mode": {
    "name": "ipython",
    "version": 3
   },
   "file_extension": ".py",
   "mimetype": "text/x-python",
   "name": "python",
   "nbconvert_exporter": "python",
   "pygments_lexer": "ipython3",
   "version": "3.7.7"
  }
 },
 "nbformat": 4,
 "nbformat_minor": 4
}
